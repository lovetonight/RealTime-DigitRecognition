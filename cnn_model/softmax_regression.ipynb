{
 "cells": [
  {
   "cell_type": "code",
   "execution_count": 18,
   "metadata": {},
   "outputs": [],
   "source": [
    "import struct\n",
    "import numpy as np\n",
    "import array\n",
    "import scipy.sparse\n",
    "import scipy.optimize\n",
    "from softmax import SoftmaxRegression"
   ]
  },
  {
   "cell_type": "code",
   "execution_count": 19,
   "metadata": {},
   "outputs": [],
   "source": [
    "def loadMNISTImages(file_name):\n",
    "\n",
    "    image_file = open(file_name, 'rb')\n",
    "\n",
    "    head1 = image_file.read(4)\n",
    "    head2 = image_file.read(4)\n",
    "    head3 = image_file.read(4)\n",
    "    head4 = image_file.read(4)\n",
    "\n",
    "    num_examples = struct.unpack('>I', head2)[0]\n",
    "    num_rows = struct.unpack('>I', head3)[0]\n",
    "    num_cols = struct.unpack('>I', head4)[0]\n",
    "\n",
    "    dataset = np.zeros((num_rows * num_cols, num_examples))\n",
    "\n",
    "    images_raw = array.array('B', image_file.read())\n",
    "    image_file.close()\n",
    "\n",
    "    for i in range(num_examples):\n",
    "        limit1 = num_rows * num_cols * i\n",
    "        limit2 = num_rows * num_cols * (i + 1)\n",
    "\n",
    "        dataset[:, i] = images_raw[limit1: limit2]\n",
    "\n",
    "    return dataset / 255\n",
    "\n",
    "def loadMNISTLabels(file_name):\n",
    "\n",
    "    label_file = open(file_name, 'rb')\n",
    "\n",
    "    head1 = label_file.read(4)\n",
    "    head2 = label_file.read(4)\n",
    "\n",
    "    num_examples = struct.unpack('>I', head2)[0]\n",
    "\n",
    "    labels = np.zeros((num_examples, 1), dtype=int)\n",
    "\n",
    "    labels_raw = array.array('b', label_file.read())\n",
    "    label_file.close()\n",
    "\n",
    "    labels[:, 0] = labels_raw[:]\n",
    "\n",
    "    return labels\n",
    "\n",
    "def train(regressor):\n",
    "    max_iterations = 100\n",
    "\n",
    "    training_data = loadMNISTImages('./data/train-images.idx3-ubyte')\n",
    "    training_labels = loadMNISTLabels('./data/train-labels.idx1-ubyte')\n",
    "\n",
    "    opt_solution = scipy.optimize.minimize(regressor.softmaxCost, np.squeeze(regressor.theta),\n",
    "                                       args=(training_data, training_labels,), method='L-BFGS-B',\n",
    "                                       jac=True, options={'maxiter': max_iterations})    \n",
    "    regressor.theta = opt_solution.x\n",
    "    return opt_solution.x\n",
    "    "
   ]
  },
  {
   "cell_type": "code",
   "execution_count": 20,
   "metadata": {},
   "outputs": [],
   "source": [
    "regressor = SoftmaxRegression()\n",
    "opt_theta = train(regressor)"
   ]
  },
  {
   "cell_type": "code",
   "execution_count": 22,
   "metadata": {},
   "outputs": [
    {
     "name": "stdout",
     "output_type": "stream",
     "text": [
      "Accuracy: 0.9055\n"
     ]
    }
   ],
   "source": [
    "test_data = loadMNISTImages('./data/t10k-images.idx3-ubyte')\n",
    "test_labels = loadMNISTLabels('./data/t10k-labels.idx1-ubyte')\n",
    "\n",
    "predictions = regressor.softmaxPredict(test_data)\n",
    "\n",
    "correct = test_labels[:, 0] == predictions[:, 0]\n",
    "print(f'Accuracy: {np.mean(correct)}')"
   ]
  },
  {
   "cell_type": "code",
   "execution_count": 24,
   "metadata": {},
   "outputs": [],
   "source": [
    "regressor.save_weights(\"./weight/softmax_weights.npz\")"
   ]
  }
 ],
 "metadata": {
  "kernelspec": {
   "display_name": "venv",
   "language": "python",
   "name": "python3"
  },
  "language_info": {
   "codemirror_mode": {
    "name": "ipython",
    "version": 3
   },
   "file_extension": ".py",
   "mimetype": "text/x-python",
   "name": "python",
   "nbconvert_exporter": "python",
   "pygments_lexer": "ipython3",
   "version": "3.10.12"
  }
 },
 "nbformat": 4,
 "nbformat_minor": 2
}
