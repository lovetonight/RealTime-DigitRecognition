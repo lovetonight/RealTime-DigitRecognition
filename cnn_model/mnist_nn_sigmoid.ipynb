{
 "cells": [
  {
   "cell_type": "code",
   "execution_count": 1,
   "metadata": {},
   "outputs": [],
   "source": [
    "import numpy as np\n",
    "import matplotlib.pyplot as plt\n",
    "from PIL import Image\n",
    "import pathlib\n",
    "\n"
   ]
  },
  {
   "cell_type": "code",
   "execution_count": 2,
   "metadata": {},
   "outputs": [],
   "source": [
    "def get_mnist():\n",
    "    with np.load(f\"./data/mnist.npz\") as f:\n",
    "        images, labels = f[\"x_train\"], f[\"y_train\"]\n",
    "    images = images.astype(\"float32\") / 255\n",
    "    images = np.reshape(images, (images.shape[0], images.shape[1] * images.shape[2]))\n",
    "    labels = np.eye(10)[labels]\n",
    "    return images, labels"
   ]
  },
  {
   "cell_type": "code",
   "execution_count": 3,
   "metadata": {},
   "outputs": [],
   "source": [
    "images, labels = get_mnist()"
   ]
  },
  {
   "cell_type": "code",
   "execution_count": 4,
   "metadata": {},
   "outputs": [],
   "source": [
    "weight_1 = np.random.uniform(-0.5, 0.5, (28, 784))\n",
    "weight_2 = np.random.uniform(-0.5, 0.5, (10, 28))\n",
    "bias_1 = np.zeros((28, 1))\n",
    "bias_2 = np.zeros((10, 1))"
   ]
  },
  {
   "cell_type": "code",
   "execution_count": 5,
   "metadata": {},
   "outputs": [
    {
     "name": "stdout",
     "output_type": "stream",
     "text": [
      "(60000, 784)\n",
      "(60000, 10)\n"
     ]
    }
   ],
   "source": [
    "print(images.shape)\n",
    "print(labels.shape)"
   ]
  },
  {
   "cell_type": "code",
   "execution_count": 6,
   "metadata": {},
   "outputs": [],
   "source": [
    "learn_rate = 0.01\n",
    "nr_correct = 0\n",
    "epochs = 10\n"
   ]
  },
  {
   "cell_type": "code",
   "execution_count": 7,
   "metadata": {},
   "outputs": [
    {
     "ename": "KeyboardInterrupt",
     "evalue": "",
     "output_type": "error",
     "traceback": [
      "\u001b[0;31m---------------------------------------------------------------------------\u001b[0m",
      "\u001b[0;31mKeyboardInterrupt\u001b[0m                         Traceback (most recent call last)",
      "Cell \u001b[0;32mIn[7], line 27\u001b[0m\n\u001b[1;32m     25\u001b[0m     delta_h \u001b[38;5;241m=\u001b[39m np\u001b[38;5;241m.\u001b[39mdot(np\u001b[38;5;241m.\u001b[39mtranspose(weight_2), delta_o) \u001b[38;5;241m*\u001b[39m (h \u001b[38;5;241m*\u001b[39m (\u001b[38;5;241m1\u001b[39m \u001b[38;5;241m-\u001b[39m h))\n\u001b[1;32m     26\u001b[0m     weight_1 \u001b[38;5;241m+\u001b[39m\u001b[38;5;241m=\u001b[39m \u001b[38;5;241m-\u001b[39mlearn_rate \u001b[38;5;241m*\u001b[39m np\u001b[38;5;241m.\u001b[39mdot(delta_h, np\u001b[38;5;241m.\u001b[39mtranspose(img))\n\u001b[0;32m---> 27\u001b[0m     bias_1 \u001b[38;5;241m+\u001b[39m\u001b[38;5;241m=\u001b[39m \u001b[38;5;241m-\u001b[39mlearn_rate \u001b[38;5;241m*\u001b[39m delta_h\n\u001b[1;32m     29\u001b[0m \u001b[38;5;66;03m# Show accuracy for this epoch\u001b[39;00m\n\u001b[1;32m     30\u001b[0m \u001b[38;5;28mprint\u001b[39m(\u001b[38;5;124mf\u001b[39m\u001b[38;5;124m\"\u001b[39m\u001b[38;5;124mAcc: \u001b[39m\u001b[38;5;132;01m{\u001b[39;00m\u001b[38;5;28mround\u001b[39m((nr_correct\u001b[38;5;250m \u001b[39m\u001b[38;5;241m/\u001b[39m\u001b[38;5;250m \u001b[39mimages\u001b[38;5;241m.\u001b[39mshape[\u001b[38;5;241m0\u001b[39m])\u001b[38;5;250m \u001b[39m\u001b[38;5;241m*\u001b[39m\u001b[38;5;250m \u001b[39m\u001b[38;5;241m100\u001b[39m,\u001b[38;5;250m \u001b[39m\u001b[38;5;241m2\u001b[39m)\u001b[38;5;132;01m}\u001b[39;00m\u001b[38;5;124m%\u001b[39m\u001b[38;5;124m\"\u001b[39m)\n",
      "\u001b[0;31mKeyboardInterrupt\u001b[0m: "
     ]
    }
   ],
   "source": [
    "# Sigmoid, loss function\n",
    "\n",
    "def sigmoid(x):\n",
    "    return 1 / (1 + np.exp(-x))\n",
    "\n",
    "for epoch in range(epochs):\n",
    "    for img, l in zip(images, labels):\n",
    "        img.shape += (1,)\n",
    "        l.shape += (1,)\n",
    "        h_pre = bias_1 + np.dot(weight_1, img)\n",
    "        h = sigmoid(h_pre)\n",
    "        o_pre = bias_2 + np.dot(weight_2, h)\n",
    "        o = sigmoid(o_pre)\n",
    "\n",
    "        # Cost / Error calculation\n",
    "        e = 1 / len(o) * np.sum((o - l) ** 2, axis=0)\n",
    "        nr_correct += int(np.argmax(o) == np.argmax(l))\n",
    "\n",
    "        # Backpropagation output -> hidden (cost function derivative)\n",
    "        delta_o = o - l\n",
    "\n",
    "        weight_2 += -learn_rate * np.dot(delta_o, np.transpose(h))\n",
    "        bias_2 += -learn_rate * delta_o\n",
    "        # Backpropagation hidden -> input (activation function derivative)\n",
    "        delta_h = np.dot(np.transpose(weight_2), delta_o) * (h * (1 - h))\n",
    "        weight_1 += -learn_rate * np.dot(delta_h, np.transpose(img))\n",
    "        bias_1 += -learn_rate * delta_h\n",
    "\n",
    "    # Show accuracy for this epoch\n",
    "    print(f\"Acc: {round((nr_correct / images.shape[0]) * 100, 2)}%\")\n",
    "    nr_correct = 0\n"
   ]
  },
  {
   "cell_type": "code",
   "execution_count": null,
   "metadata": {},
   "outputs": [],
   "source": [
    "np.savez('./weight/weights_sigmoid.npz', weight_1=weight_1, bias_1=bias_1, weight_2=weight_2, bias_2=bias_2)\n"
   ]
  }
 ],
 "metadata": {
  "kernelspec": {
   "display_name": "venv",
   "language": "python",
   "name": "python3"
  },
  "language_info": {
   "codemirror_mode": {
    "name": "ipython",
    "version": 3
   },
   "file_extension": ".py",
   "mimetype": "text/x-python",
   "name": "python",
   "nbconvert_exporter": "python",
   "pygments_lexer": "ipython3",
   "version": "3.10.12"
  }
 },
 "nbformat": 4,
 "nbformat_minor": 2
}
