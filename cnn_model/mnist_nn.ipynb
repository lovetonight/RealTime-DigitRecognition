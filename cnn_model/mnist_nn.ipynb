{
 "cells": [
  {
   "cell_type": "code",
   "execution_count": 5,
   "metadata": {},
   "outputs": [],
   "source": [
    "import numpy as np\n",
    "import matplotlib.pyplot as plt\n",
    "from PIL import Image\n",
    "import pathlib\n",
    "# from data import get_mnist\n",
    "from pathlib import Path\n",
    "from array import array\n",
    "import struct\n",
    "\n"
   ]
  },
  {
   "cell_type": "code",
   "execution_count": 6,
   "metadata": {},
   "outputs": [],
   "source": [
    "def read_image_data(path):\n",
    "    data_dir = Path(\"./data\")\n",
    "    with open(data_dir / path, \"rb\") as f:\n",
    "        # IDX file format\n",
    "        magic, size, rows, cols = struct.unpack(\">IIII\", f.read(16))\n",
    "        image_data = array(\"B\", f.read())   \n",
    "    images = []\n",
    "    for i in range(size):\n",
    "        image = np.array(image_data[i * rows * cols:(i + 1) * rows * cols]).reshape(28, 28)\n",
    "        images.append(image)\n",
    "    return np.array(images)\n",
    "\n",
    "\n",
    "def read_labels(path):\n",
    "    data_dir = Path(\"./data\")\n",
    "    with open(data_dir / path, \"rb\") as f:\n",
    "        magic, size = struct.unpack(\">II\", f.read(8))\n",
    "        if magic != 2049:\n",
    "            raise ValueError('Magic number mismatch, expected 2049, got {}'.format(magic))\n",
    "        labels = np.array(array(\"B\", f.read()))\n",
    "    return labels"
   ]
  },
  {
   "cell_type": "code",
   "execution_count": 7,
   "metadata": {},
   "outputs": [],
   "source": [
    "def read_image_data(path):\n",
    "    data_dir = Path(\"./data\")\n",
    "    with open(data_dir / path, \"rb\") as f:\n",
    "        # IDX file format\n",
    "        magic, size, rows, cols = struct.unpack(\">IIII\", f.read(16))\n",
    "        image_data = array(\"B\", f.read())   \n",
    "    images = []\n",
    "    for i in range(size):\n",
    "        image = np.array(image_data[i * rows * cols:(i + 1) * rows * cols]).reshape(28, 28)\n",
    "        images.append(image)\n",
    "    return np.array(images)\n",
    "\n",
    "\n",
    "def read_labels(path):\n",
    "    data_dir = Path(\"./data\")\n",
    "    with open(data_dir / path, \"rb\") as f:\n",
    "        magic, size = struct.unpack(\">II\", f.read(8))\n",
    "        if magic != 2049:\n",
    "            raise ValueError('Magic number mismatch, expected 2049, got {}'.format(magic))\n",
    "        labels = np.array(array(\"B\", f.read()))\n",
    "    return labels"
   ]
  },
  {
   "cell_type": "code",
   "execution_count": 8,
   "metadata": {},
   "outputs": [],
   "source": [
    "train_labels = read_labels(\"train-labels.idx1-ubyte\")\n",
    "train_images = read_image_data(\"train-images.idx3-ubyte\")\n",
    "test_images = read_image_data(\"t10k-images.idx3-ubyte\")\n",
    "test_labels = read_labels(\"t10k-labels.idx1-ubyte\")"
   ]
  },
  {
   "cell_type": "code",
   "execution_count": 9,
   "metadata": {},
   "outputs": [],
   "source": [
    "def onehot(label):\n",
    "    encoded_label = np.zeros(10)\n",
    "    encoded_label[label] = 1\n",
    "    return encoded_label"
   ]
  },
  {
   "cell_type": "code",
   "execution_count": 22,
   "metadata": {},
   "outputs": [],
   "source": [
    "images = train_images.reshape(-1, 28 * 28)\n",
    "labels = np.array([onehot(label) for label in train_labels])\n"
   ]
  },
  {
   "cell_type": "code",
   "execution_count": 14,
   "metadata": {},
   "outputs": [],
   "source": [
    "w_i_h = np.random.uniform(-0.5, 0.5, (20, 784))\n",
    "w_h_o = np.random.uniform(-0.5, 0.5, (10, 20))\n",
    "b_i_h = np.zeros((20, 1))\n",
    "b_h_o = np.zeros((10, 1))"
   ]
  },
  {
   "cell_type": "code",
   "execution_count": 23,
   "metadata": {},
   "outputs": [
    {
     "name": "stdout",
     "output_type": "stream",
     "text": [
      "(60000, 784)\n",
      "(60000, 10)\n"
     ]
    }
   ],
   "source": [
    "print(images.shape)\n",
    "print(labels.shape)"
   ]
  },
  {
   "cell_type": "code",
   "execution_count": 24,
   "metadata": {},
   "outputs": [],
   "source": [
    "learn_rate = 0.01\n",
    "nr_correct = 0\n",
    "epochs = 3"
   ]
  },
  {
   "cell_type": "code",
   "execution_count": 25,
   "metadata": {},
   "outputs": [
    {
     "name": "stderr",
     "output_type": "stream",
     "text": [
      "/tmp/ipykernel_32256/3999807045.py:7: RuntimeWarning: overflow encountered in exp\n",
      "  h = 1 / (1 + np.exp(-h_pre))\n"
     ]
    },
    {
     "name": "stdout",
     "output_type": "stream",
     "text": [
      "Acc: 29.72%\n",
      "Acc: 42.53%\n",
      "Acc: 45.68%\n"
     ]
    }
   ],
   "source": [
    "for epoch in range(epochs):\n",
    "    for img, l in zip(images, labels):\n",
    "        img.shape += (1,)\n",
    "        l.shape += (1,)\n",
    "        # Forward propagation input -> hidden\n",
    "        h_pre = b_i_h + w_i_h @ img\n",
    "        h = 1 / (1 + np.exp(-h_pre))\n",
    "        # Forward propagation hidden -> output\n",
    "        o_pre = b_h_o + w_h_o @ h\n",
    "        o = 1 / (1 + np.exp(-o_pre))\n",
    "\n",
    "        # Cost / Error calculation\n",
    "        e = 1 / len(o) * np.sum((o - l) ** 2, axis=0)\n",
    "        nr_correct += int(np.argmax(o) == np.argmax(l))\n",
    "\n",
    "        # Backpropagation output -> hidden (cost function derivative)\n",
    "        delta_o = o - l\n",
    "        \n",
    "        w_h_o += -learn_rate * delta_o @ np.transpose(h)\n",
    "        b_h_o += -learn_rate * delta_o\n",
    "        # Backpropagation hidden -> input (activation function derivative)\n",
    "        delta_h = np.transpose(w_h_o) @ delta_o * (h * (1 - h))\n",
    "        w_i_h += -learn_rate * delta_h @ np.transpose(img)\n",
    "        b_i_h += -learn_rate * delta_h\n",
    "\n",
    "    # Show accuracy for this epoch\n",
    "    print(f\"Acc: {round((nr_correct / images.shape[0]) * 100, 2)}%\")\n",
    "    nr_correct = 0"
   ]
  },
  {
   "cell_type": "code",
   "execution_count": null,
   "metadata": {},
   "outputs": [],
   "source": [
    "# Show results\n",
    "def convert_img_to_mnist(path):\n",
    "    image = Image.open(path)\n",
    "    \n",
    "    # Resize the image to 28x28 pixels\n",
    "    image = image.resize((28, 28))\n",
    "    # Convert the image to grayscale\n",
    "    image = image.convert('L')\n",
    "\n",
    "    image_array = np.array(image).flatten()\n",
    "\n",
    "    return image_array \n"
   ]
  },
  {
   "cell_type": "code",
   "execution_count": null,
   "metadata": {},
   "outputs": [
    {
     "name": "stdout",
     "output_type": "stream",
     "text": [
      "3\n"
     ]
    },
    {
     "name": "stderr",
     "output_type": "stream",
     "text": [
      "/tmp/ipykernel_6737/3839041451.py:3: RuntimeWarning: overflow encountered in exp\n",
      "  h = 1 / (1 + np.exp(-h_pre))\n"
     ]
    }
   ],
   "source": [
    "image_array = convert_img_to_mnist(f'./img/8.jpg')\n",
    "h_pre = b_i_h + w_i_h @ image_array.reshape(784, 1)\n",
    "h = 1 / (1 + np.exp(-h_pre))\n",
    "o_pre = b_h_o + w_h_o @ h\n",
    "o = 1 / (1 + np.exp(-o_pre))\n",
    "print(o.argmax())"
   ]
  }
 ],
 "metadata": {
  "kernelspec": {
   "display_name": "venv",
   "language": "python",
   "name": "python3"
  },
  "language_info": {
   "codemirror_mode": {
    "name": "ipython",
    "version": 3
   },
   "file_extension": ".py",
   "mimetype": "text/x-python",
   "name": "python",
   "nbconvert_exporter": "python",
   "pygments_lexer": "ipython3",
   "version": "3.10.12"
  }
 },
 "nbformat": 4,
 "nbformat_minor": 2
}
