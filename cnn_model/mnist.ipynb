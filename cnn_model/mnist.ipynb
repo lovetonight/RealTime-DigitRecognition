{
 "cells": [
  {
   "cell_type": "code",
   "execution_count": 1,
   "metadata": {},
   "outputs": [],
   "source": [
    "from pathlib import Path\n",
    "from array import array\n",
    "import struct\n",
    "import cv2 \n",
    "import numpy as np\n",
    "from PIL import Image\n",
    "import matplotlib.pyplot as plt\n",
    "from one_layer_nn import OneLayerNN\n",
    "import torch\n",
    "import torch.nn as nn"
   ]
  },
  {
   "cell_type": "markdown",
   "metadata": {},
   "source": [
    "### Read data"
   ]
  },
  {
   "cell_type": "code",
   "execution_count": 2,
   "metadata": {},
   "outputs": [],
   "source": [
    "def read_image_data(path):\n",
    "    data_dir = Path(\"./data\")\n",
    "    with open(data_dir / path, \"rb\") as f:\n",
    "        # IDX file format\n",
    "        magic, size, rows, cols = struct.unpack(\">IIII\", f.read(16))\n",
    "        image_data = array(\"B\", f.read())   \n",
    "    images = []\n",
    "    for i in range(size):\n",
    "        image = np.array(image_data[i * rows * cols:(i + 1) * rows * cols]).reshape(28, 28)\n",
    "        images.append(image)\n",
    "    return np.array(images)\n",
    "\n",
    "\n",
    "def read_labels(path):\n",
    "    data_dir = Path(\"./data\")\n",
    "    with open(data_dir / path, \"rb\") as f:\n",
    "        magic, size = struct.unpack(\">II\", f.read(8))\n",
    "        if magic != 2049:\n",
    "            raise ValueError('Magic number mismatch, expected 2049, got {}'.format(magic))\n",
    "        labels = np.array(array(\"B\", f.read()))\n",
    "    return labels"
   ]
  },
  {
   "cell_type": "code",
   "execution_count": 3,
   "metadata": {},
   "outputs": [
    {
     "name": "stdout",
     "output_type": "stream",
     "text": [
      "(60000, 28, 28)\n"
     ]
    }
   ],
   "source": [
    "train_val_labels = read_labels(\"train-labels.idx1-ubyte\")\n",
    "train_val_images = read_image_data(\"train-images.idx3-ubyte\")\n",
    "test_images = read_image_data(\"t10k-images.idx3-ubyte\")\n",
    "test_labels = read_labels(\"t10k-labels.idx1-ubyte\")\n",
    "print(train_val_images.shape)"
   ]
  },
  {
   "cell_type": "code",
   "execution_count": 4,
   "metadata": {},
   "outputs": [
    {
     "data": {
      "text/plain": [
       "<matplotlib.image.AxesImage at 0x7fb136ac5120>"
      ]
     },
     "execution_count": 4,
     "metadata": {},
     "output_type": "execute_result"
    },
    {
     "data": {
      "image/png": "[encoded data removed]",
      "text/plain": [
       "<Figure size 640x480 with 1 Axes>"
      ]
     },
     "metadata": {},
     "output_type": "display_data"
    }
   ],
   "source": [
    "# Show image\n",
    "\n",
    "plt.imshow(test_images[10])\n"
   ]
  },
  {
   "cell_type": "markdown",
   "metadata": {},
   "source": [
    "### Process"
   ]
  },
  {
   "cell_type": "code",
   "execution_count": 5,
   "metadata": {},
   "outputs": [],
   "source": [
    "def onehot(label):\n",
    "    encoded_label = np.zeros(10)\n",
    "    encoded_label[label] = 1\n",
    "    return encoded_label"
   ]
  },
  {
   "cell_type": "code",
   "execution_count": 6,
   "metadata": {},
   "outputs": [],
   "source": [
    "# Set trainning dataset\n",
    "# Set validate dataset\n",
    "\n",
    "train_images = train_val_images[:int(0.9 * len(train_val_images))]\n",
    "val_images = train_val_images[len(train_images):]\n",
    "\n",
    "train_labels = train_val_labels[:len(train_images)]\n",
    "val_labels = train_val_labels[len(train_images):]\n"
   ]
  },
  {
   "cell_type": "code",
   "execution_count": 7,
   "metadata": {},
   "outputs": [],
   "source": [
    "one_layer_nn = OneLayerNN()"
   ]
  },
  {
   "cell_type": "code",
   "execution_count": 8,
   "metadata": {},
   "outputs": [
    {
     "name": "stderr",
     "output_type": "stream",
     "text": [
      "/tmp/ipykernel_33243/4021182234.py:4: UserWarning: Creating a tensor from a list of numpy.ndarrays is extremely slow. Please consider converting the list to a single numpy.ndarray with numpy.array() before converting to a tensor. (Triggered internally at ../torch/csrc/utils/tensor_new.cpp:261.)\n",
      "  torch_train_labels = torch.Tensor([onehot(label) for label in train_labels])\n"
     ]
    }
   ],
   "source": [
    "torch_train_images = torch.Tensor(train_images).reshape(-1, 28 * 28)\n",
    "torch_val_images = torch.Tensor(val_images).reshape(-1, 28 * 28)\n",
    "torch_test_images = torch.Tensor(test_images).reshape(-1, 28 * 28)\n",
    "torch_train_labels = torch.Tensor([onehot(label) for label in train_labels])\n",
    "torch_val_labels = torch.Tensor([onehot(label) for label in val_labels])\n",
    "torch_test_labels = torch.Tensor([onehot(label) for label in test_labels])\n",
    "torch_train_dataset = torch.hstack((torch_train_labels, torch_train_images))\n"
   ]
  },
  {
   "cell_type": "code",
   "execution_count": 12,
   "metadata": {},
   "outputs": [
    {
     "data": {
      "text/plain": [
       "torch.Size([54000, 10])"
      ]
     },
     "execution_count": 12,
     "metadata": {},
     "output_type": "execute_result"
    }
   ],
   "source": [
    "torch_train_images.shape\n",
    "torch_train_labels.shape"
   ]
  },
  {
   "cell_type": "code",
   "execution_count": 9,
   "metadata": {},
   "outputs": [],
   "source": [
    "optim = torch.optim.SGD(params=one_layer_nn.parameters(), lr=1e-3)"
   ]
  },
  {
   "cell_type": "code",
   "execution_count": 10,
   "metadata": {},
   "outputs": [
    {
     "name": "stdout",
     "output_type": "stream",
     "text": [
      "Val Loss 0.20393569767475128\n",
      "Accuracy 0.948\n",
      "Val Loss 0.19235552847385406\n",
      "Accuracy 0.9508333333333333\n",
      "Val Loss 0.17994824051856995\n",
      "Accuracy 0.9648333333333333\n",
      "Val Loss 0.17091968655586243\n",
      "Accuracy 0.9633333333333334\n",
      "Val Loss 0.1671697199344635\n",
      "Accuracy 0.962\n",
      "Val Loss 0.16545654833316803\n",
      "Accuracy 0.9648333333333333\n",
      "Val Loss 0.1630193591117859\n",
      "Accuracy 0.9658333333333333\n",
      "Val Loss 0.16405142843723297\n",
      "Accuracy 0.9633333333333334\n",
      "Val Loss 0.16647011041641235\n",
      "Accuracy 0.9646666666666667\n",
      "Val Loss 0.1667189747095108\n",
      "Accuracy 0.9675\n",
      "Val Loss 0.1657988429069519\n",
      "Accuracy 0.9678333333333333\n",
      "Val Loss 0.16974537074565887\n",
      "Accuracy 0.9615\n",
      "Val Loss 0.17027665674686432\n",
      "Accuracy 0.9661666666666666\n",
      "Val Loss 0.170095294713974\n",
      "Accuracy 0.9698333333333333\n",
      "Val Loss 0.17230236530303955\n",
      "Accuracy 0.9675\n",
      "Val Loss 0.1735967993736267\n",
      "Accuracy 0.969\n",
      "Val Loss 0.1737612783908844\n",
      "Accuracy 0.9718333333333333\n",
      "Val Loss 0.17466598749160767\n",
      "Accuracy 0.9716666666666667\n",
      "Val Loss 0.17464259266853333\n",
      "Accuracy 0.9721666666666666\n",
      "Val Loss 0.1760926991701126\n",
      "Accuracy 0.9703333333333334\n",
      "Val Loss 0.17875811457633972\n",
      "Accuracy 0.9701666666666666\n",
      "Val Loss 0.18208128213882446\n",
      "Accuracy 0.9665\n",
      "Val Loss 0.18383045494556427\n",
      "Accuracy 0.9713333333333334\n",
      "Val Loss 0.18647657334804535\n",
      "Accuracy 0.9671666666666666\n",
      "Val Loss 0.18809612095355988\n",
      "Accuracy 0.973\n",
      "Val Loss 0.1916925460100174\n",
      "Accuracy 0.9678333333333333\n",
      "Val Loss 0.19532498717308044\n",
      "Accuracy 0.9666666666666667\n",
      "Val Loss 0.19783997535705566\n",
      "Accuracy 0.9688333333333333\n",
      "Val Loss 0.20059695839881897\n",
      "Accuracy 0.9738333333333333\n"
     ]
    },
    {
     "ename": "KeyboardInterrupt",
     "evalue": "",
     "output_type": "error",
     "traceback": [
      "\u001b[0;31m---------------------------------------------------------------------------\u001b[0m",
      "\u001b[0;31mKeyboardInterrupt\u001b[0m                         Traceback (most recent call last)",
      "\u001b[1;32m/home/trhoan/Documents/HUST-Documents/ML_DM/RealTime-DigitRecognition/cnn_model/mnist.ipynb Cell 13\u001b[0m line \u001b[0;36m1\n\u001b[1;32m     <a href='vscode-notebook-cell:/home/trhoan/Documents/HUST-Documents/ML_DM/RealTime-DigitRecognition/cnn_model/mnist.ipynb#X14sZmlsZQ%3D%3D?line=15'>16</a>\u001b[0m     optim\u001b[39m.\u001b[39mzero_grad() \u001b[39m# Chuyen grad ve 0\u001b[39;00m\n\u001b[1;32m     <a href='vscode-notebook-cell:/home/trhoan/Documents/HUST-Documents/ML_DM/RealTime-DigitRecognition/cnn_model/mnist.ipynb#X14sZmlsZQ%3D%3D?line=16'>17</a>\u001b[0m     loss\u001b[39m.\u001b[39mbackward() \u001b[39m# Backward \u001b[39;00m\n\u001b[0;32m---> <a href='vscode-notebook-cell:/home/trhoan/Documents/HUST-Documents/ML_DM/RealTime-DigitRecognition/cnn_model/mnist.ipynb#X14sZmlsZQ%3D%3D?line=17'>18</a>\u001b[0m     optim\u001b[39m.\u001b[39;49mstep()\n\u001b[1;32m     <a href='vscode-notebook-cell:/home/trhoan/Documents/HUST-Documents/ML_DM/RealTime-DigitRecognition/cnn_model/mnist.ipynb#X14sZmlsZQ%3D%3D?line=18'>19</a>\u001b[0m     train_losses\u001b[39m.\u001b[39mappend(loss\u001b[39m.\u001b[39mdetach())\n\u001b[1;32m     <a href='vscode-notebook-cell:/home/trhoan/Documents/HUST-Documents/ML_DM/RealTime-DigitRecognition/cnn_model/mnist.ipynb#X14sZmlsZQ%3D%3D?line=19'>20</a>\u001b[0m \u001b[39mwith\u001b[39;00m torch\u001b[39m.\u001b[39mno_grad():\n",
      "File \u001b[0;32m~/Documents/HUST-Documents/ML_DM/RealTime-DigitRecognition/venv/lib/python3.10/site-packages/torch/optim/optimizer.py:373\u001b[0m, in \u001b[0;36mOptimizer.profile_hook_step.<locals>.wrapper\u001b[0;34m(*args, **kwargs)\u001b[0m\n\u001b[1;32m    368\u001b[0m         \u001b[39melse\u001b[39;00m:\n\u001b[1;32m    369\u001b[0m             \u001b[39mraise\u001b[39;00m \u001b[39mRuntimeError\u001b[39;00m(\n\u001b[1;32m    370\u001b[0m                 \u001b[39mf\u001b[39m\u001b[39m\"\u001b[39m\u001b[39m{\u001b[39;00mfunc\u001b[39m}\u001b[39;00m\u001b[39m must return None or a tuple of (new_args, new_kwargs), but got \u001b[39m\u001b[39m{\u001b[39;00mresult\u001b[39m}\u001b[39;00m\u001b[39m.\u001b[39m\u001b[39m\"\u001b[39m\n\u001b[1;32m    371\u001b[0m             )\n\u001b[0;32m--> 373\u001b[0m out \u001b[39m=\u001b[39m func(\u001b[39m*\u001b[39;49margs, \u001b[39m*\u001b[39;49m\u001b[39m*\u001b[39;49mkwargs)\n\u001b[1;32m    374\u001b[0m \u001b[39mself\u001b[39m\u001b[39m.\u001b[39m_optimizer_step_code()\n\u001b[1;32m    376\u001b[0m \u001b[39m# call optimizer step post hooks\u001b[39;00m\n",
      "File \u001b[0;32m~/Documents/HUST-Documents/ML_DM/RealTime-DigitRecognition/venv/lib/python3.10/site-packages/torch/optim/optimizer.py:76\u001b[0m, in \u001b[0;36m_use_grad_for_differentiable.<locals>._use_grad\u001b[0;34m(self, *args, **kwargs)\u001b[0m\n\u001b[1;32m     74\u001b[0m     torch\u001b[39m.\u001b[39mset_grad_enabled(\u001b[39mself\u001b[39m\u001b[39m.\u001b[39mdefaults[\u001b[39m'\u001b[39m\u001b[39mdifferentiable\u001b[39m\u001b[39m'\u001b[39m])\n\u001b[1;32m     75\u001b[0m     torch\u001b[39m.\u001b[39m_dynamo\u001b[39m.\u001b[39mgraph_break()\n\u001b[0;32m---> 76\u001b[0m     ret \u001b[39m=\u001b[39m func(\u001b[39mself\u001b[39;49m, \u001b[39m*\u001b[39;49margs, \u001b[39m*\u001b[39;49m\u001b[39m*\u001b[39;49mkwargs)\n\u001b[1;32m     77\u001b[0m \u001b[39mfinally\u001b[39;00m:\n\u001b[1;32m     78\u001b[0m     torch\u001b[39m.\u001b[39m_dynamo\u001b[39m.\u001b[39mgraph_break()\n",
      "File \u001b[0;32m~/Documents/HUST-Documents/ML_DM/RealTime-DigitRecognition/venv/lib/python3.10/site-packages/torch/optim/sgd.py:75\u001b[0m, in \u001b[0;36mSGD.step\u001b[0;34m(self, closure)\u001b[0m\n\u001b[1;32m     71\u001b[0m momentum_buffer_list \u001b[39m=\u001b[39m []\n\u001b[1;32m     73\u001b[0m has_sparse_grad \u001b[39m=\u001b[39m \u001b[39mself\u001b[39m\u001b[39m.\u001b[39m_init_group(group, params_with_grad, d_p_list, momentum_buffer_list)\n\u001b[0;32m---> 75\u001b[0m sgd(params_with_grad,\n\u001b[1;32m     76\u001b[0m     d_p_list,\n\u001b[1;32m     77\u001b[0m     momentum_buffer_list,\n\u001b[1;32m     78\u001b[0m     weight_decay\u001b[39m=\u001b[39;49mgroup[\u001b[39m'\u001b[39;49m\u001b[39mweight_decay\u001b[39;49m\u001b[39m'\u001b[39;49m],\n\u001b[1;32m     79\u001b[0m     momentum\u001b[39m=\u001b[39;49mgroup[\u001b[39m'\u001b[39;49m\u001b[39mmomentum\u001b[39;49m\u001b[39m'\u001b[39;49m],\n\u001b[1;32m     80\u001b[0m     lr\u001b[39m=\u001b[39;49mgroup[\u001b[39m'\u001b[39;49m\u001b[39mlr\u001b[39;49m\u001b[39m'\u001b[39;49m],\n\u001b[1;32m     81\u001b[0m     dampening\u001b[39m=\u001b[39;49mgroup[\u001b[39m'\u001b[39;49m\u001b[39mdampening\u001b[39;49m\u001b[39m'\u001b[39;49m],\n\u001b[1;32m     82\u001b[0m     nesterov\u001b[39m=\u001b[39;49mgroup[\u001b[39m'\u001b[39;49m\u001b[39mnesterov\u001b[39;49m\u001b[39m'\u001b[39;49m],\n\u001b[1;32m     83\u001b[0m     maximize\u001b[39m=\u001b[39;49mgroup[\u001b[39m'\u001b[39;49m\u001b[39mmaximize\u001b[39;49m\u001b[39m'\u001b[39;49m],\n\u001b[1;32m     84\u001b[0m     has_sparse_grad\u001b[39m=\u001b[39;49mhas_sparse_grad,\n\u001b[1;32m     85\u001b[0m     foreach\u001b[39m=\u001b[39;49mgroup[\u001b[39m'\u001b[39;49m\u001b[39mforeach\u001b[39;49m\u001b[39m'\u001b[39;49m])\n\u001b[1;32m     87\u001b[0m \u001b[39m# update momentum_buffers in state\u001b[39;00m\n\u001b[1;32m     88\u001b[0m \u001b[39mfor\u001b[39;00m p, momentum_buffer \u001b[39min\u001b[39;00m \u001b[39mzip\u001b[39m(params_with_grad, momentum_buffer_list):\n",
      "File \u001b[0;32m~/Documents/HUST-Documents/ML_DM/RealTime-DigitRecognition/venv/lib/python3.10/site-packages/torch/optim/sgd.py:220\u001b[0m, in \u001b[0;36msgd\u001b[0;34m(params, d_p_list, momentum_buffer_list, has_sparse_grad, foreach, weight_decay, momentum, lr, dampening, nesterov, maximize)\u001b[0m\n\u001b[1;32m    217\u001b[0m \u001b[39melse\u001b[39;00m:\n\u001b[1;32m    218\u001b[0m     func \u001b[39m=\u001b[39m _single_tensor_sgd\n\u001b[0;32m--> 220\u001b[0m func(params,\n\u001b[1;32m    221\u001b[0m      d_p_list,\n\u001b[1;32m    222\u001b[0m      momentum_buffer_list,\n\u001b[1;32m    223\u001b[0m      weight_decay\u001b[39m=\u001b[39;49mweight_decay,\n\u001b[1;32m    224\u001b[0m      momentum\u001b[39m=\u001b[39;49mmomentum,\n\u001b[1;32m    225\u001b[0m      lr\u001b[39m=\u001b[39;49mlr,\n\u001b[1;32m    226\u001b[0m      dampening\u001b[39m=\u001b[39;49mdampening,\n\u001b[1;32m    227\u001b[0m      nesterov\u001b[39m=\u001b[39;49mnesterov,\n\u001b[1;32m    228\u001b[0m      has_sparse_grad\u001b[39m=\u001b[39;49mhas_sparse_grad,\n\u001b[1;32m    229\u001b[0m      maximize\u001b[39m=\u001b[39;49mmaximize)\n",
      "File \u001b[0;32m~/Documents/HUST-Documents/ML_DM/RealTime-DigitRecognition/venv/lib/python3.10/site-packages/torch/optim/sgd.py:263\u001b[0m, in \u001b[0;36m_single_tensor_sgd\u001b[0;34m(params, d_p_list, momentum_buffer_list, weight_decay, momentum, lr, dampening, nesterov, maximize, has_sparse_grad)\u001b[0m\n\u001b[1;32m    260\u001b[0m     \u001b[39melse\u001b[39;00m:\n\u001b[1;32m    261\u001b[0m         d_p \u001b[39m=\u001b[39m buf\n\u001b[0;32m--> 263\u001b[0m param\u001b[39m.\u001b[39;49madd_(d_p, alpha\u001b[39m=\u001b[39;49m\u001b[39m-\u001b[39;49mlr)\n",
      "\u001b[0;31mKeyboardInterrupt\u001b[0m: "
     ]
    }
   ],
   "source": [
    "one_layer_nn = OneLayerNN()\n",
    "optim = torch.optim.SGD(params=one_layer_nn.parameters(), lr=1e-3)\n",
    "train_losses = []\n",
    "val_losses = []\n",
    "epochs = 30\n",
    "batch_size = 10\n",
    "val_predictions = []\n",
    "for epoch in range(epochs):\n",
    "    shuffled_order = torch.randperm(len(torch_train_dataset))\n",
    "    val_predictions = []\n",
    "    for index in range(len(shuffled_order) // batch_size):\n",
    "        batch = torch_train_dataset[shuffled_order[index * batch_size:(index + 1) * batch_size]]\n",
    "        y_true = batch[:,:10]\n",
    "        y_pred = one_layer_nn(batch[:,10:]) # What's happen?\n",
    "        loss = torch.nn.functional.cross_entropy(y_pred, y_true) # What's happen?\n",
    "        optim.zero_grad() # Chuyen grad ve 0\n",
    "        loss.backward() # Backward \n",
    "        optim.step()\n",
    "        train_losses.append(loss.detach())\n",
    "    with torch.no_grad():\n",
    "        for batch in range(len(torch_val_images) // batch_size):\n",
    "            y_pred = one_layer_nn(torch_val_images[batch * batch_size:(batch + 1) * batch_size])\n",
    "            y_true = torch_val_labels[batch * batch_size:(batch + 1) * batch_size]\n",
    "            loss = torch.nn.functional.cross_entropy(y_pred, y_true)\n",
    "            val_losses.append(loss)\n",
    "            val_predictions.extend(torch.argmax(y_pred, axis=1))\n",
    "        print(\"Val Loss\", (sum(val_losses) / len(val_losses)).item())\n",
    "        print(\"Accuracy\", sum(np.array(val_predictions) == val_labels) / len(val_labels))"
   ]
  },
  {
   "cell_type": "code",
   "execution_count": null,
   "metadata": {},
   "outputs": [],
   "source": [
    "torch.save(one_layer_nn.state_dict(), 'model_weights.pth')"
   ]
  },
  {
   "cell_type": "code",
   "execution_count": null,
   "metadata": {},
   "outputs": [],
   "source": [
    "model = OneLayerNN()\n",
    "model.load_state_dict(torch.load('model_weights.pth'))\n",
    "def convert_img_to_mnist(path):\n",
    "    image = Image.open(path)\n",
    "\n",
    "    # Convert the image to grayscale\n",
    "    image = image.convert('L')\n",
    "\n",
    "    # Resize the image to 28x28 pixels\n",
    "    image = image.resize((28, 28))\n",
    "\n",
    "    # Convert the image to a NumPy array\n",
    "    image_array = np.array(image)\n",
    "    # Ensure pixel values are within the range [0, 255]\n",
    "    image_array = (image_array / 255.0) * 255\n",
    "    image_array = torch.Tensor(image_array).reshape(-1, 28 * 28)\n",
    "    test_predictions = []\n",
    "    with torch.no_grad():\n",
    "        y_pred = one_layer_nn(image_array[:])\n",
    "        test_predictions.extend(torch.argmax(y_pred, axis=1))\n",
    "        print(test_predictions)\n",
    "    test_predictions = torch.Tensor(test_predictions).numpy().astype(np.uint8)\n",
    "    print(test_predictions)"
   ]
  },
  {
   "cell_type": "code",
   "execution_count": null,
   "metadata": {},
   "outputs": [],
   "source": [
    "model = OneLayerNN()\n",
    "model.load_state_dict(torch.load('model_weights.pth'))\n",
    "def convert_img_to_mnist_2(path):\n",
    "    image = Image.open(path)\n",
    "\n",
    "    # Convert the image to grayscale\n",
    "    image = image.convert('L')\n",
    "\n",
    "    # Resize the image to 28x28 pixels\n",
    "    image = image.resize((28, 28))\n",
    "\n",
    "    # Convert the image to a NumPy array\n",
    "    image_array = np.array(image)\n",
    "    # Ensure pixel values are within the range [0, 255]\n",
    "    image_array = (image_array / 255.0) * 255\n",
    "    image_array = torch.Tensor(image_array).reshape(-1, 28 * 28)\n",
    "    test_predictions = []\n",
    "    y_pred = one_layer_nn(image_array[:])\n",
    "    max_index = np.argmax(y_pred.detach().numpy())\n",
    "    print(max_index)"
   ]
  },
  {
   "cell_type": "code",
   "execution_count": null,
   "metadata": {},
   "outputs": [
    {
     "name": "stdout",
     "output_type": "stream",
     "text": [
      "8\n"
     ]
    }
   ],
   "source": [
    "image_array = convert_img_to_mnist_2('out.png')"
   ]
  }
 ],
 "metadata": {
  "kernelspec": {
   "display_name": "Python 3",
   "language": "python",
   "name": "python3"
  },
  "language_info": {
   "codemirror_mode": {
    "name": "ipython",
    "version": 3
   },
   "file_extension": ".py",
   "mimetype": "text/x-python",
   "name": "python",
   "nbconvert_exporter": "python",
   "pygments_lexer": "ipython3",
   "version": "3.10.12"
  }
 },
 "nbformat": 4,
 "nbformat_minor": 2
}
