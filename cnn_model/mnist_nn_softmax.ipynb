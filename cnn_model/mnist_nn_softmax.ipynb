{
 "cells": [
  {
   "cell_type": "code",
   "execution_count": 80,
   "metadata": {},
   "outputs": [],
   "source": [
    "import numpy as np\n",
    "import matplotlib.pyplot as plt\n",
    "from PIL import Image\n",
    "import pathlib\n",
    "\n"
   ]
  },
  {
   "cell_type": "code",
   "execution_count": 81,
   "metadata": {},
   "outputs": [],
   "source": [
    "def get_mnist():\n",
    "    with np.load(f\"./data/mnist.npz\") as f:\n",
    "        images, labels = f[\"x_train\"], f[\"y_train\"]\n",
    "    images = images.astype(\"float32\") / 255\n",
    "    images = np.reshape(images, (images.shape[0], images.shape[1] * images.shape[2]))\n",
    "    labels = np.eye(10)[labels]\n",
    "    return images, labels"
   ]
  },
  {
   "cell_type": "code",
   "execution_count": 82,
   "metadata": {},
   "outputs": [],
   "source": [
    "images, labels = get_mnist()"
   ]
  },
  {
   "cell_type": "code",
   "execution_count": 83,
   "metadata": {},
   "outputs": [],
   "source": [
    "weight_1 = np.random.uniform(-0.5, 0.5, (28, 784))\n",
    "weight_2 = np.random.uniform(-0.5, 0.5, (10,28))\n",
    "bias_1 = np.zeros((28, 1))\n",
    "bias_2 = np.zeros((10, 1))"
   ]
  },
  {
   "cell_type": "code",
   "execution_count": 84,
   "metadata": {},
   "outputs": [
    {
     "name": "stdout",
     "output_type": "stream",
     "text": [
      "(60000, 784)\n",
      "(60000, 10)\n"
     ]
    }
   ],
   "source": [
    "print(images.shape)\n",
    "print(labels.shape)"
   ]
  },
  {
   "cell_type": "code",
   "execution_count": 85,
   "metadata": {},
   "outputs": [],
   "source": [
    "learn_rate = 0.01\n",
    "nr_correct = 0\n",
    "epochs = 10"
   ]
  },
  {
   "cell_type": "code",
   "execution_count": 86,
   "metadata": {},
   "outputs": [
    {
     "name": "stdout",
     "output_type": "stream",
     "text": [
      "Acc: 87.83%\n",
      "Acc: 93.15%\n",
      "Acc: 94.3%\n",
      "Acc: 95.03%\n",
      "Acc: 95.57%\n",
      "Acc: 95.95%\n",
      "Acc: 96.24%\n",
      "Acc: 96.5%\n",
      "Acc: 96.69%\n",
      "Acc: 96.84%\n"
     ]
    }
   ],
   "source": [
    "def softmax(x):\n",
    "    exp_x = np.exp(x - np.max(x, axis=0))  # for numerical stability\n",
    "    return exp_x / np.sum(exp_x, axis=0)\n",
    "\n",
    "for epoch in range(epochs):\n",
    "    for img, l in zip(images, labels):\n",
    "        img.shape += (1,)\n",
    "        l.shape += (1,)\n",
    "        # Forward propagation input -> hidden\n",
    "        h_pre = bias_1 + np.dot(weight_1, img)\n",
    "        h = 1 / (1 + np.exp(-h_pre))\n",
    "        # Forward propagation hidden -> output\n",
    "        o_pre = bias_2 + np.dot(weight_2, h)\n",
    "        o = softmax(o_pre)\n",
    "\n",
    "        # Cost / Error calculation\n",
    "        \n",
    "        e = -np.sum(l * np.log(o))  # Cross-entropy loss for softmax\n",
    "\n",
    "        nr_correct += int(np.argmax(o) == np.argmax(l))\n",
    "\n",
    "        # Backpropagation output -> hidden (cost function derivative)\n",
    "        delta_o = o - l\n",
    "\n",
    "        weight_2 += -learn_rate * np.dot(delta_o, np.transpose(h))\n",
    "        bias_2 += -learn_rate * delta_o\n",
    "        # Backpropagation hidden -> input (activation function derivative)\n",
    "        delta_h = np.dot(np.transpose(weight_2), delta_o) * (h * (1 - h))\n",
    "        weight_1 += -learn_rate * np.dot(delta_h, np.transpose(img))\n",
    "        bias_1 += -learn_rate * delta_h\n",
    "\n",
    "    # Show accuracy for this epoch\n",
    "    print(f\"Acc: {round((nr_correct / images.shape[0]) * 100, 2)}%\")\n",
    "    nr_correct = 0\n"
   ]
  },
  {
   "cell_type": "code",
   "execution_count": 87,
   "metadata": {},
   "outputs": [],
   "source": [
    "np.savez('./weight/weights_softmax.npz', weight_1=weight_1, bias_1=bias_1, weight_2=weight_2, bias_2=bias_2)\n"
   ]
  }
 ],
 "metadata": {
  "kernelspec": {
   "display_name": "venv",
   "language": "python",
   "name": "python3"
  },
  "language_info": {
   "codemirror_mode": {
    "name": "ipython",
    "version": 3
   },
   "file_extension": ".py",
   "mimetype": "text/x-python",
   "name": "python",
   "nbconvert_exporter": "python",
   "pygments_lexer": "ipython3",
   "version": "3.10.12"
  }
 },
 "nbformat": 4,
 "nbformat_minor": 2
}
