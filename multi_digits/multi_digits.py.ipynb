{
 "cells": [
  {
   "cell_type": "code",
   "execution_count": 7,
   "metadata": {},
   "outputs": [
    {
     "data": {
      "text/plain": [
       "<matplotlib.image.AxesImage at 0x7fc965bd8390>"
      ]
     },
     "execution_count": 7,
     "metadata": {},
     "output_type": "execute_result"
    },
    {
     "data": {
      "image/png": "[encoded data removed]",
      "text/plain": [
       "<matplotlib.figure.Figure at 0x7fc965cbae48>"
      ]
     },
     "metadata": {},
     "output_type": "display_data"
    }
   ],
   "source": [
    "import cv2\n",
    "import numpy as np        \n",
    "import matplotlib.pyplot as plt\n",
    "\n",
    "\n",
    "def image_show(img):\n",
    "    cv2.imshow('digits',img)\n",
    "    cv2.waitKey(0)\n",
    "    cv2.destroyAllWindows()\n",
    "    \n",
    "img = cv2.imread('digits/out.png',2)\n",
    "img_org =  cv2.imread('digits/out.png')\n",
    "ret,thresh = cv2.threshold(img,127,255,0)\n",
    "im2,contours,hierarchy = cv2.findContours(thresh, cv2.RETR_CCOMP, cv2.CHAIN_APPROX_SIMPLE)\n",
    "for j,cnt in enumerate(contours):\n",
    "    M = cv2.moments(cnt)\n",
    "    cx = int(M['m10']/M['m00'])\n",
    "    cy = int(M['m01']/M['m00'])\n",
    "    area = cv2.contourArea(cnt)\n",
    "    perimeter = cv2.arcLength(cnt,True)\n",
    "    epsilon = 0.001*cv2.arcLength(cnt,True)\n",
    "    approx = cv2.approxPolyDP(cnt,epsilon,True)\n",
    "\n",
    "    hull = cv2.convexHull(cnt)\n",
    "    k = cv2.isContourConvex(cnt)\n",
    "    x,y,w,h = cv2.boundingRect(cnt)\n",
    "#     if(w<300 and h <300 and (w>50 or h>50) and w>15  and h> 25):\n",
    "    if(hierarchy[0][j][3]!=-1):\n",
    "        cv2.rectangle(img_org,(x,y),(x+w,y+h),(0,255,0),2)\n",
    "        \n",
    "#         roi = img[y:y+h, int(x-h/2):int(x+h/2)]\n",
    "        roi = img[y:y+h, x:x+w]\n",
    "        path =  'digits/all/' + str(j) + '.png'\n",
    "        cv2.imwrite(path, roi)\n",
    "    \n",
    "    \n",
    "    #drawing contours\n",
    "        rect = cv2.minAreaRect(cnt)\n",
    "        box = cv2.boxPoints(rect)\n",
    "        box = np.int0(box)\n",
    "        cv2.drawContours(img_org,[approx],0,(0,0,225),2)\n",
    "    \n",
    "    \n",
    "        (x,y),radius = cv2.minEnclosingCircle(cnt)\n",
    "        center = (int(x),int(y))\n",
    "        radius = int(radius)\n",
    "        im = cv2.circle(img_org,center,2,(0,255,0),2)\n",
    "\n",
    "im = cv2.cvtColor(im, cv2.COLOR_BGR2RGB)\n",
    "plt.imshow(im)"
   ]
  },
  {
   "cell_type": "code",
   "execution_count": 92,
   "metadata": {},
   "outputs": [
    {
     "name": "stdout",
     "output_type": "stream",
     "text": [
      "0 [ 1 -1 -1 -1]\n",
      "1 [ 2  0 -1 -1]\n",
      "2 [ 3  1 -1 -1]\n",
      "3 [ 4  2 -1 -1]\n",
      "4 [ 5  3 -1 -1]\n",
      "5 [ 6  4 -1 -1]\n",
      "6 [-1  5  7 -1]\n",
      "7 [ 8 -1 -1  6]\n",
      "8 [ 9  7 -1  6]\n",
      "9 [10  8 -1  6]\n",
      "10 [11  9 -1  6]\n",
      "11 [12 10 -1  6]\n",
      "12 [13 11 -1  6]\n",
      "13 [14 12 -1  6]\n",
      "14 [15 13 -1  6]\n",
      "15 [16 14 -1  6]\n",
      "16 [-1 15 -1  6]\n"
     ]
    }
   ],
   "source": [
    "hierarchy[0][0]\n",
    "for i,x in enumerate(hierarchy[0]):\n",
    "    print(i,x)"
   ]
  },
  {
   "cell_type": "code",
   "execution_count": 56,
   "metadata": {},
   "outputs": [
    {
     "data": {
      "text/plain": [
       "array([[[ 1, -1, -1, -1],\n",
       "        [ 2,  0, -1, -1],\n",
       "        [ 3,  1, -1, -1],\n",
       "        [ 4,  2, -1, -1],\n",
       "        [ 5,  3, -1, -1],\n",
       "        [ 6,  4, -1, -1],\n",
       "        [-1,  5,  7, -1],\n",
       "        [ 8, -1, -1,  6],\n",
       "        [ 9,  7, -1,  6],\n",
       "        [10,  8, -1,  6],\n",
       "        [11,  9, -1,  6],\n",
       "        [12, 10, -1,  6],\n",
       "        [13, 11, -1,  6],\n",
       "        [14, 12, -1,  6],\n",
       "        [15, 13, -1,  6],\n",
       "        [16, 14, -1,  6],\n",
       "        [-1, 15, -1,  6]]], dtype=int32)"
      ]
     },
     "execution_count": 56,
     "metadata": {},
     "output_type": "execute_result"
    }
   ],
   "source": [
    "hierarchy"
   ]
  },
  {
   "cell_type": "code",
   "execution_count": null,
   "metadata": {},
   "outputs": [],
   "source": []
  }
 ],
 "metadata": {
  "kernelspec": {
   "display_name": "Python 3",
   "language": "python",
   "name": "python3"
  },
  "language_info": {
   "codemirror_mode": {
    "name": "ipython",
    "version": 3
   },
   "file_extension": ".py",
   "mimetype": "text/x-python",
   "name": "python",
   "nbconvert_exporter": "python",
   "pygments_lexer": "ipython3",
   "version": "3.6.2"
  }
 },
 "nbformat": 4,
 "nbformat_minor": 2
}
